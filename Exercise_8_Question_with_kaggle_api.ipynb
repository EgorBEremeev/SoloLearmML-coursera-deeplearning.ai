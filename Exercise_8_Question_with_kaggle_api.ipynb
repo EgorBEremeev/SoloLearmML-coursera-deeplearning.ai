{
  "nbformat": 4,
  "nbformat_minor": 0,
  "metadata": {
    "colab": {
      "name": "Exercise 8 - Question.ipynb",
      "version": "0.3.2",
      "provenance": [],
      "collapsed_sections": [],
      "include_colab_link": true
    },
    "kernelspec": {
      "name": "python3",
      "display_name": "Python 3"
    },
    "accelerator": "GPU"
  },
  "cells": [
    {
      "cell_type": "markdown",
      "metadata": {
        "id": "view-in-github",
        "colab_type": "text"
      },
      "source": [
        "<a href=\"https://colab.research.google.com/github/EgorBEremeev/SoloLearmML-coursera-deeplearning.ai/blob/master/Exercise_8_Question_with_kaggle_api.ipynb\" target=\"_parent\"><img src=\"https://colab.research.google.com/assets/colab-badge.svg\" alt=\"Open In Colab\"/></a>"
      ]
    },
    {
      "cell_type": "code",
      "metadata": {
        "id": "wYtuKeK0dImp",
        "colab_type": "code",
        "colab": {}
      },
      "source": [
        "import csv\n",
        "import numpy as np\n",
        "import tensorflow as tf\n",
        "from tensorflow.keras.preprocessing.image import ImageDataGenerator\n",
        "from tensorflow.keras.optimizers import RMSprop\n",
        "from google.colab import files"
      ],
      "execution_count": 0,
      "outputs": []
    },
    {
      "cell_type": "markdown",
      "metadata": {
        "id": "EmMyh9_mkDHF",
        "colab_type": "text"
      },
      "source": [
        "The data for this exercise is available at: https://www.kaggle.com/datamunge/sign-language-mnist/home\n",
        "\n",
        "Sign up and download to find 2 CSV files: sign_mnist_test.csv and sign_mnist_train.csv -- You will upload both of them using this button before you can continue.\n"
      ]
    },
    {
      "cell_type": "code",
      "metadata": {
        "id": "mR7aOWztdbgf",
        "colab_type": "code",
        "outputId": "a338d03d-7134-4529-df70-12f2688fc7b9",
        "colab": {
          "base_uri": "https://localhost:8080/",
          "height": 212
        }
      },
      "source": [
        "!pip install kaggle"
      ],
      "execution_count": 2,
      "outputs": [
        {
          "output_type": "stream",
          "text": [
            "Requirement already satisfied: kaggle in /usr/local/lib/python3.6/dist-packages (1.5.5)\n",
            "Requirement already satisfied: six>=1.10 in /usr/local/lib/python3.6/dist-packages (from kaggle) (1.12.0)\n",
            "Requirement already satisfied: python-dateutil in /usr/local/lib/python3.6/dist-packages (from kaggle) (2.5.3)\n",
            "Requirement already satisfied: python-slugify in /usr/local/lib/python3.6/dist-packages (from kaggle) (3.0.3)\n",
            "Requirement already satisfied: certifi in /usr/local/lib/python3.6/dist-packages (from kaggle) (2019.6.16)\n",
            "Requirement already satisfied: requests in /usr/local/lib/python3.6/dist-packages (from kaggle) (2.21.0)\n",
            "Requirement already satisfied: urllib3<1.25,>=1.21.1 in /usr/local/lib/python3.6/dist-packages (from kaggle) (1.24.3)\n",
            "Requirement already satisfied: tqdm in /usr/local/lib/python3.6/dist-packages (from kaggle) (4.28.1)\n",
            "Requirement already satisfied: text-unidecode==1.2 in /usr/local/lib/python3.6/dist-packages (from python-slugify->kaggle) (1.2)\n",
            "Requirement already satisfied: idna<2.9,>=2.5 in /usr/local/lib/python3.6/dist-packages (from requests->kaggle) (2.8)\n",
            "Requirement already satisfied: chardet<3.1.0,>=3.0.2 in /usr/local/lib/python3.6/dist-packages (from requests->kaggle) (3.0.4)\n"
          ],
          "name": "stdout"
        }
      ]
    },
    {
      "cell_type": "code",
      "metadata": {
        "id": "XgPzfS6xglWI",
        "colab_type": "code",
        "colab": {
          "base_uri": "https://localhost:8080/",
          "height": 35
        },
        "outputId": "e1849ff2-1433-4b43-b196-ffc87a3119d8"
      },
      "source": [
        "!mkdir ~/.kaggle\n",
        "!touch ~/.kaggle/kaggle.json\n",
        "\n",
        "api_token = {\"username\":\"egorberemeev\",\"key\":\"13d8a9eacd02b125d0404596b4555c44\"}\n",
        "\n",
        "import json\n",
        "\n",
        "with open('/root/.kaggle/kaggle.json', 'w') as file:\n",
        "    json.dump(api_token, file)\n",
        "\n",
        "!chmod 600 ~/.kaggle/kaggle.json"
      ],
      "execution_count": 6,
      "outputs": [
        {
          "output_type": "stream",
          "text": [
            "mkdir: cannot create directory ‘/root/.kaggle’: File exists\n"
          ],
          "name": "stdout"
        }
      ]
    },
    {
      "cell_type": "code",
      "metadata": {
        "id": "UWx4LyAVdjLC",
        "colab_type": "code",
        "outputId": "ca5732bd-8447-494e-8025-cde00f24e94e",
        "colab": {
          "base_uri": "https://localhost:8080/",
          "height": 70
        }
      },
      "source": [
        "!kaggle datasets download -d datamunge/sign-language-mnist\n",
        "\n"
      ],
      "execution_count": 5,
      "outputs": [
        {
          "output_type": "stream",
          "text": [
            "Downloading sign-language-mnist.zip to /content\n",
            " 88% 27.0M/30.8M [00:00<00:00, 21.5MB/s]\n",
            "100% 30.8M/30.8M [00:00<00:00, 48.4MB/s]\n"
          ],
          "name": "stdout"
        }
      ]
    },
    {
      "cell_type": "code",
      "metadata": {
        "id": "IcLOZlnnc_N7",
        "colab_type": "code",
        "colab": {}
      },
      "source": [
        "#uploaded=files.upload()"
      ],
      "execution_count": 0,
      "outputs": []
    },
    {
      "cell_type": "code",
      "metadata": {
        "id": "oL7CE0Ue6RAr",
        "colab_type": "code",
        "colab": {}
      },
      "source": [
        "import os\n",
        "import zipfile\n",
        "\n",
        "local_zip = '/content/sign-language-mnist.zip'\n",
        "zip_ref = zipfile.ZipFile(local_zip, 'r')\n",
        "zip_ref.extractall('/tmp/sign-language-mnist')\n",
        "zip_ref.close()"
      ],
      "execution_count": 0,
      "outputs": []
    },
    {
      "cell_type": "code",
      "metadata": {
        "id": "4kxw-_rmcnVu",
        "colab_type": "code",
        "outputId": "63939fed-0522-4bbb-fc75-e44d47303f41",
        "colab": {
          "base_uri": "https://localhost:8080/",
          "height": 88
        }
      },
      "source": [
        "def get_data(filename):\n",
        "  # You will need to write code that will read the file passed\n",
        "  # into this function. The first line contains the column headers\n",
        "  # so you should ignore it\n",
        "  # Each successive line contians 785 comma separated values between 0 and 255\n",
        "  # The first value is the label\n",
        "  # The rest are the pixel values for that picture\n",
        "  # The function will return 2 np.array types. One with all the labels\n",
        "  # One with all the images\n",
        "  #\n",
        "  # Tips: \n",
        "  # If you read a full line (as 'row') then row[0] has the label\n",
        "  # and row[1:785] has the 784 pixel values\n",
        "  # Take a look at np.array_split to turn the 784 pixels into 28x28\n",
        "  # You are reading in strings, but need the values to be floats\n",
        "  # Check out np.array().astype for a conversion\n",
        "    labels = np.empty(1)\n",
        "    images = np.empty([1,28,28])\n",
        "    with open(filename) as training_file:\n",
        "      filereader = csv.reader(training_file, delimiter=',')\n",
        "      temp_labels = []\n",
        "      temp_images = []\n",
        "      header_row = filereader.__next__()\n",
        "      #print(header_row)\n",
        "      for row in filereader:\n",
        "            temp_labels.append(row[0])\n",
        "            pixels = row[1:785]\n",
        "            image = np.array_split(pixels,28)\n",
        "            temp_images.append(image)\n",
        "      images = np.array(temp_images).astype(float)\n",
        "      labels = np.array(temp_labels).astype(float)\n",
        "    return images, labels\n",
        "\n",
        "\n",
        "training_images, training_labels = get_data('/tmp/sign-language-mnist/sign_mnist_train.csv')\n",
        "testing_images, testing_labels = get_data('/tmp/sign-language-mnist/sign_mnist_test.csv')\n",
        "\n",
        "# Keep these\n",
        "print(training_images.shape)\n",
        "print(training_labels.shape)\n",
        "print(testing_images.shape)\n",
        "print(testing_labels.shape)\n",
        "\n",
        "# Their output should be:\n",
        "# (27455, 28, 28)\n",
        "# (27455,)\n",
        "# (7172, 28, 28)\n",
        "# (7172,)"
      ],
      "execution_count": 0,
      "outputs": [
        {
          "output_type": "stream",
          "text": [
            "(27455, 28, 28)\n",
            "(27455,)\n",
            "(7172, 28, 28)\n",
            "(7172,)\n"
          ],
          "name": "stdout"
        }
      ]
    },
    {
      "cell_type": "code",
      "metadata": {
        "id": "VVqAuSYRkXoX",
        "colab_type": "code",
        "colab": {}
      },
      "source": [
        "# In this section you will have to add another dimension to the data\n",
        "# So, for example, if your array is (10000, 28, 28)\n",
        "# You will need to make it (10000, 28, 28, 1)\n",
        "# Hint: np.expand_dims\n",
        "\n",
        "training_images = np.expand_dims(training_images,3)\n",
        "testing_images = np.expand_dims(testing_images,3)\n",
        "\n",
        "# Keep These\n",
        "print(training_images.shape)\n",
        "print(testing_images.shape)\n",
        "    \n",
        "# Their output should be:\n",
        "# (27455, 28, 28, 1)\n",
        "# (7172, 28, 28, 1)"
      ],
      "execution_count": 0,
      "outputs": []
    },
    {
      "cell_type": "code",
      "metadata": {
        "id": "awoqRpyZdQkD",
        "colab_type": "code",
        "colab": {}
      },
      "source": [
        "\n",
        "\n",
        "# Create an ImageDataGenerator and do Image Augmentation\n",
        "train_datagen = ImageDataGenerator(rescale = 1./255.,\n",
        "                                   rotation_range = 30,\n",
        "                                   width_shift_range = 0.2,\n",
        "                                   height_shift_range = 0.2,\n",
        "                                   shear_range = 0.2,\n",
        "                                   zoom_range = 0.2,\n",
        "                                   horizontal_flip = True)\n",
        "train_generator = train_datagen.flow(training_images, training_labels, batch_size=32)\n",
        "\n",
        "validation_datagen = ImageDataGenerator(rescale = 1./255.,\n",
        "                                   rotation_range = 30,\n",
        "                                   width_shift_range = 0.2,\n",
        "                                   height_shift_range = 0.2,\n",
        "                                   shear_range = 0.2,\n",
        "                                   zoom_range = 0.2,\n",
        "                                   horizontal_flip = True)\n",
        "validation_generator = validation_datagen.flow(testing_images, testing_labels, batch_size=32)\n",
        "    \n"
      ],
      "execution_count": 0,
      "outputs": []
    },
    {
      "cell_type": "code",
      "metadata": {
        "id": "Rmb7S32cgRqS",
        "colab_type": "code",
        "outputId": "d87b3c04-a2c1-42f2-cef5-d341a4e56e64",
        "colab": {
          "base_uri": "https://localhost:8080/",
          "height": 677
        }
      },
      "source": [
        "# Define the model\n",
        "# Use no more than 2 Conv2D and 2 MaxPooling2D\n",
        "model = tf.keras.models.Sequential([\n",
        "    tf.keras.layers.Conv2D(32, (3,3), activation='relu', input_shape=(28,28,1)),\n",
        "    tf.keras.layers.MaxPool2D(2,2),\n",
        "    tf.keras.layers.Conv2D(64, (3,3), activation='relu'),\n",
        "    tf.keras.layers.MaxPool2D(2,2),\n",
        "    tf.keras.layers.Flatten(),\n",
        "    tf.keras.layers.Dense(256, activation='relu'),\n",
        "    tf.keras.layers.Dense(26, activation='softmax')\n",
        "    ])\n",
        "\n",
        "# Compile Model. \n",
        "model.compile(optimizer=RMSprop(lr=1e-3),\n",
        "              loss='sparse_categorical_crossentropy',\n",
        "              metrics=['acc'])\n",
        "\n",
        "# Train the Model\n",
        "batch_size = 64\n",
        "history = model.fit_generator(train_datagen.flow(training_images, training_labels, batch_size=batch_size),\n",
        "                              steps_per_epoch=len(training_images) / batch_size,\n",
        "                              epochs=15,\n",
        "                              validation_data=validation_datagen.flow(testing_images, testing_labels, batch_size=batch_size),\n",
        "                              validation_steps=len(testing_images) / batch_size)\n",
        "\n",
        "model.evaluate(testing_images, testing_labels)\n",
        "    \n",
        "# The output from model.evaluate should be close to:\n",
        "[6.92426086682151, 0.56609035]\n"
      ],
      "execution_count": 0,
      "outputs": [
        {
          "output_type": "stream",
          "text": [
            "WARNING: Logging before flag parsing goes to stderr.\n",
            "W0807 19:33:42.591364 139757305481088 deprecation.py:506] From /usr/local/lib/python3.6/dist-packages/tensorflow/python/ops/init_ops.py:1251: calling VarianceScaling.__init__ (from tensorflow.python.ops.init_ops) with dtype is deprecated and will be removed in a future version.\n",
            "Instructions for updating:\n",
            "Call initializer instance with the dtype argument instead of passing it to the constructor\n"
          ],
          "name": "stderr"
        },
        {
          "output_type": "stream",
          "text": [
            "Epoch 1/15\n",
            "429/428 [==============================] - 18s 41ms/step - loss: 2.7570 - acc: 0.1705 - val_loss: 2.3785 - val_acc: 0.2772\n",
            "Epoch 2/15\n",
            "429/428 [==============================] - 15s 35ms/step - loss: 2.1242 - acc: 0.3382 - val_loss: 2.0898 - val_acc: 0.3370\n",
            "Epoch 3/15\n",
            "429/428 [==============================] - 15s 34ms/step - loss: 1.7205 - acc: 0.4498 - val_loss: 1.6151 - val_acc: 0.4782\n",
            "Epoch 4/15\n",
            "429/428 [==============================] - 15s 34ms/step - loss: 1.4471 - acc: 0.5361 - val_loss: 1.3870 - val_acc: 0.5442\n",
            "Epoch 5/15\n",
            "429/428 [==============================] - 15s 35ms/step - loss: 1.2298 - acc: 0.6025 - val_loss: 1.3122 - val_acc: 0.5714\n",
            "Epoch 6/15\n",
            "429/428 [==============================] - 15s 34ms/step - loss: 1.0683 - acc: 0.6522 - val_loss: 1.0669 - val_acc: 0.6486\n",
            "Epoch 7/15\n",
            "429/428 [==============================] - 15s 35ms/step - loss: 0.9286 - acc: 0.6985 - val_loss: 0.9868 - val_acc: 0.6606\n",
            "Epoch 8/15\n",
            "429/428 [==============================] - 15s 34ms/step - loss: 0.8133 - acc: 0.7361 - val_loss: 0.9099 - val_acc: 0.6966\n",
            "Epoch 9/15\n",
            "429/428 [==============================] - 15s 35ms/step - loss: 0.7252 - acc: 0.7621 - val_loss: 0.8142 - val_acc: 0.7313\n",
            "Epoch 10/15\n",
            "429/428 [==============================] - 15s 35ms/step - loss: 0.6512 - acc: 0.7860 - val_loss: 0.7149 - val_acc: 0.7634\n",
            "Epoch 11/15\n",
            "429/428 [==============================] - 15s 35ms/step - loss: 0.5774 - acc: 0.8113 - val_loss: 0.7167 - val_acc: 0.7584\n",
            "Epoch 12/15\n",
            "429/428 [==============================] - 15s 34ms/step - loss: 0.5263 - acc: 0.8266 - val_loss: 0.6393 - val_acc: 0.7798\n",
            "Epoch 13/15\n",
            "429/428 [==============================] - 15s 34ms/step - loss: 0.4959 - acc: 0.8376 - val_loss: 0.5855 - val_acc: 0.8061\n",
            "Epoch 14/15\n",
            "429/428 [==============================] - 15s 34ms/step - loss: 0.4491 - acc: 0.8509 - val_loss: 0.6130 - val_acc: 0.8005\n",
            "Epoch 15/15\n",
            "429/428 [==============================] - 15s 34ms/step - loss: 0.4259 - acc: 0.8610 - val_loss: 0.5344 - val_acc: 0.8235\n",
            "7172/7172 [==============================] - 1s 93us/sample - loss: 133.6164 - acc: 0.7616\n"
          ],
          "name": "stdout"
        },
        {
          "output_type": "execute_result",
          "data": {
            "text/plain": [
              "[6.92426086682151, 0.56609035]"
            ]
          },
          "metadata": {
            "tags": []
          },
          "execution_count": 13
        }
      ]
    },
    {
      "cell_type": "code",
      "metadata": {
        "id": "_Q3Zpr46dsij",
        "colab_type": "code",
        "outputId": "64424910-b506-44fa-aa28-e0456a855aa9",
        "colab": {
          "base_uri": "https://localhost:8080/",
          "height": 545
        }
      },
      "source": [
        "# Plot the chart for accuracy and loss on both training and validation\n",
        "\n",
        "import matplotlib.pyplot as plt\n",
        "acc = history.history['acc']\n",
        "val_acc = history.history['val_acc']\n",
        "loss = history.history['loss']\n",
        "val_loss = history.history['val_loss']\n",
        "\n",
        "epochs = range(len(acc))\n",
        "\n",
        "plt.plot(epochs, acc, 'r', label='Training accuracy')\n",
        "plt.plot(epochs, val_acc, 'b', label='Validation accuracy')\n",
        "plt.title('Training and validation accuracy')\n",
        "plt.legend()\n",
        "plt.figure()\n",
        "\n",
        "plt.plot(epochs, loss, 'r', label='Training Loss')\n",
        "plt.plot(epochs, val_loss, 'b', label='Validation Loss')\n",
        "plt.title('Training and validation loss')\n",
        "plt.legend()\n",
        "\n",
        "plt.show()"
      ],
      "execution_count": 0,
      "outputs": [
        {
          "output_type": "display_data",
          "data": {
            "image/png": "[encoded data removed]",
            "text/plain": [
              "<Figure size 432x288 with 1 Axes>"
            ]
          },
          "metadata": {
            "tags": []
          }
        },
        {
          "output_type": "display_data",
          "data": {
            "image/png": "[encoded data removed]",
            "text/plain": [
              "<Figure size 432x288 with 1 Axes>"
            ]
          },
          "metadata": {
            "tags": []
          }
        }
      ]
    }
  ]
}