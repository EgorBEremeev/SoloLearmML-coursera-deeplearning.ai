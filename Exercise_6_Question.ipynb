{
  "nbformat": 4,
  "nbformat_minor": 0,
  "metadata": {
    "colab": {
      "name": "Exercise 6 - Question.ipynb",
      "version": "0.3.2",
      "provenance": [],
      "collapsed_sections": [],
      "include_colab_link": true
    },
    "kernelspec": {
      "name": "python3",
      "display_name": "Python 3"
    },
    "accelerator": "GPU"
  },
  "cells": [
    {
      "cell_type": "markdown",
      "metadata": {
        "id": "view-in-github",
        "colab_type": "text"
      },
      "source": [
        "<a href=\"https://colab.research.google.com/github/EgorBEremeev/SoloLearmML-coursera-deeplearning.ai/blob/master/Exercise_6_Question.ipynb\" target=\"_parent\"><img src=\"https://colab.research.google.com/assets/colab-badge.svg\" alt=\"Open In Colab\"/></a>"
      ]
    },
    {
      "cell_type": "code",
      "metadata": {
        "id": "dn-6c02VmqiN",
        "colab_type": "code",
        "colab": {}
      },
      "source": [
        "# In this exercise you will train a CNN on the FULL Cats-v-dogs dataset\n",
        "# This will require you doing a lot of data preprocessing because\n",
        "# the dataset isn't split into training and validation for you\n",
        "# This code block has all the required inputs\n",
        "import os\n",
        "import zipfile\n",
        "import random\n",
        "import tensorflow as tf\n",
        "from tensorflow.keras.optimizers import RMSprop\n",
        "from tensorflow.keras.preprocessing.image import ImageDataGenerator\n",
        "from shutil import copyfile"
      ],
      "execution_count": 0,
      "outputs": []
    },
    {
      "cell_type": "code",
      "metadata": {
        "id": "3sd9dQWa23aj",
        "colab_type": "code",
        "outputId": "2d832ade-3b76-481a-e695-1b86a62e2fd4",
        "colab": {
          "base_uri": "https://localhost:8080/",
          "height": 202
        }
      },
      "source": [
        "# This code block downloads the full Cats-v-Dogs dataset and stores it as \n",
        "# cats-and-dogs.zip. It then unzips it to /tmp\n",
        "# which will create a tmp/PetImages directory containing subdirectories\n",
        "# called 'Cat' and 'Dog' (that's how the original researchers structured it)\n",
        "# If the URL doesn't work, \n",
        "# .   visit https://www.microsoft.com/en-us/download/confirmation.aspx?id=54765\n",
        "# And right click on the 'Download Manually' link to get a new URL\n",
        "\n",
        "!wget --no-check-certificate \\\n",
        "    \"https://download.microsoft.com/download/3/E/1/3E1C3F21-ECDB-4869-8368-6DEBA77B919F/kagglecatsanddogs_3367a.zip\" \\\n",
        "    -O \"/tmp/cats-and-dogs.zip\"\n",
        "\n",
        "local_zip = '/tmp/cats-and-dogs.zip'\n",
        "zip_ref = zipfile.ZipFile(local_zip, 'r')\n",
        "zip_ref.extractall('/tmp')\n",
        "zip_ref.close()\n"
      ],
      "execution_count": 2,
      "outputs": [
        {
          "output_type": "stream",
          "text": [
            "--2019-08-05 20:49:48--  https://download.microsoft.com/download/3/E/1/3E1C3F21-ECDB-4869-8368-6DEBA77B919F/kagglecatsanddogs_3367a.zip\n",
            "Resolving download.microsoft.com (download.microsoft.com)... 23.213.140.170, 2600:1413:1:88c::e59, 2600:1413:1:880::e59\n",
            "Connecting to download.microsoft.com (download.microsoft.com)|23.213.140.170|:443... connected.\n",
            "HTTP request sent, awaiting response... 200 OK\n",
            "Length: 824894548 (787M) [application/octet-stream]\n",
            "Saving to: ‘/tmp/cats-and-dogs.zip’\n",
            "\n",
            "/tmp/cats-and-dogs. 100%[===================>] 786.68M  95.3MB/s    in 8.4s    \n",
            "\n",
            "2019-08-05 20:49:56 (93.6 MB/s) - ‘/tmp/cats-and-dogs.zip’ saved [824894548/824894548]\n",
            "\n"
          ],
          "name": "stdout"
        }
      ]
    },
    {
      "cell_type": "code",
      "metadata": {
        "id": "gi3yD62a6X3S",
        "colab_type": "code",
        "outputId": "9d6258c4-0f69-4a1b-ad21-b3d045a5fc11",
        "colab": {
          "base_uri": "https://localhost:8080/",
          "height": 50
        }
      },
      "source": [
        "print(len(os.listdir('/tmp/PetImages/Cat/')))\n",
        "print(len(os.listdir('/tmp/PetImages/Dog/')))\n",
        "\n",
        "# Expected Output:\n",
        "# 12501\n",
        "# 12501"
      ],
      "execution_count": 3,
      "outputs": [
        {
          "output_type": "stream",
          "text": [
            "12501\n",
            "12501\n"
          ],
          "name": "stdout"
        }
      ]
    },
    {
      "cell_type": "code",
      "metadata": {
        "id": "F-QkLjxpmyK2",
        "colab_type": "code",
        "colab": {
          "base_uri": "https://localhost:8080/",
          "height": 34
        },
        "outputId": "274abacf-1213-4bae-ab4d-ed9282693722"
      },
      "source": [
        "# Use os.mkdir to create your directories\n",
        "# You will need a directory for cats-v-dogs, and subdirectories for training\n",
        "# and testing. These in turn will need subdirectories for 'cats' and 'dogs'\n",
        "\n",
        "MODEL_DATA_DIR = \"/tmp/cats-v-dogs/\"\n",
        "MODEL_TRAINING_DIR = MODEL_DATA_DIR + \"training/\"\n",
        "MODEL_TESTING_DIR = MODEL_DATA_DIR + \"testing/\"\n",
        "\n",
        "CAT_SOURCE_DIR = \"/tmp/PetImages/Cat/\"\n",
        "TRAINING_CATS_DIR = MODEL_TRAINING_DIR + \"cats/\"\n",
        "TESTING_CATS_DIR = MODEL_TESTING_DIR + \"cats/\"\n",
        "\n",
        "DOG_SOURCE_DIR = \"/tmp/PetImages/Dog/\"\n",
        "TRAINING_DOGS_DIR = MODEL_TRAINING_DIR + \"dogs/\"\n",
        "TESTING_DOGS_DIR = MODEL_TESTING_DIR + \"dogs/\"\n",
        "\n",
        "try:\n",
        "    os.mkdir(MODEL_DATA_DIR)\n",
        "    os.mkdir(MODEL_TRAINING_DIR)\n",
        "    os.mkdir(MODEL_TESTING_DIR)\n",
        "    os.mkdir(TRAINING_CATS_DIR)\n",
        "    os.mkdir(TRAINING_DOGS_DIR)\n",
        "    os.mkdir(TESTING_CATS_DIR)\n",
        "    os.mkdir(TESTING_DOGS_DIR)\n",
        "except OSError as err:\n",
        "    print(\"OS error: {0}\".format(err))"
      ],
      "execution_count": 4,
      "outputs": [
        {
          "output_type": "stream",
          "text": [
            "OS error: [Errno 17] File exists: '/tmp/cats-v-dogs/'\n"
          ],
          "name": "stdout"
        }
      ]
    },
    {
      "cell_type": "code",
      "metadata": {
        "id": "zvSODo0f9LaU",
        "colab_type": "code",
        "outputId": "0cefa591-3760-472d-bd7e-ef11783b176f",
        "colab": {
          "base_uri": "https://localhost:8080/",
          "height": 118
        }
      },
      "source": [
        "# Write a python function called split_data which takes\n",
        "# a SOURCE directory containing the files\n",
        "# a TRAINING directory that a portion of the files will be copied to\n",
        "# a TESTING directory that a portion of the files will be copie to\n",
        "# a SPLIT SIZE to determine the portion\n",
        "# The files should also be randomized, so that the training set is a random\n",
        "# X% of the files, and the test set is the remaining files\n",
        "# SO, for example, if SOURCE is PetImages/Cat, and SPLIT SIZE is .9\n",
        "# Then 90% of the images in PetImages/Cat will be copied to the TRAINING dir\n",
        "# and 10% of the images will be copied to the TESTING dir\n",
        "# Also -- All images should be checked, and if they have a zero file length,\n",
        "# they will not be copied over\n",
        "#\n",
        "# os.listdir(DIRECTORY) gives you a listing of the contents of that directory\n",
        "# os.path.getsize(PATH) gives you the size of the file\n",
        "# copyfile(source, destination) copies a file from source to destination\n",
        "# random.sample(list, len(list)) shuffles a list\n",
        "def split_data(SOURCE, TRAINING, TESTING, SPLIT_SIZE):\n",
        "# YOUR CODE STARTS HERE\n",
        "  files = []\n",
        "  for filename in os.listdir(SOURCE):\n",
        "      file = SOURCE + filename\n",
        "      if os.path.getsize(file) > 0:\n",
        "            files.append(filename)\n",
        "      else:\n",
        "          print(filename + \" is zero length, so ignoring.\")\n",
        "\n",
        "  train_length = int(len(files)*SPLIT_SIZE)\n",
        "  testing_length = len(files) - train_length\n",
        "  files_shuffled = random.sample(files, len(files))\n",
        "\n",
        "  train_files = files_shuffled[0:train_length]\n",
        "  testing_files = files_shuffled[-testing_length:]\n",
        "  print(train_files[:10])\n",
        "  print(testing_files[:10])\n",
        "  \n",
        "  for fname in train_files:\n",
        "      copyfile(os.path.join(SOURCE, fname), os.path.join(TRAINING, fname))\n",
        "      \n",
        "  for fname in testing_files:\n",
        "      copyfile(os.path.join(SOURCE, fname), os.path.join(TESTING, fname))\n",
        "  \n",
        "  \n",
        "# YOUR CODE ENDS HERE\n",
        "\n",
        "split_size = .9\n",
        "split_data(CAT_SOURCE_DIR, TRAINING_CATS_DIR, TESTING_CATS_DIR, split_size)\n",
        "split_data(DOG_SOURCE_DIR, TRAINING_DOGS_DIR, TESTING_DOGS_DIR, split_size)\n",
        "\n",
        "# Expected output\n",
        "# 666.jpg is zero length, so ignoring\n",
        "# 11702.jpg is zero length, so ignoring"
      ],
      "execution_count": 5,
      "outputs": [
        {
          "output_type": "stream",
          "text": [
            "666.jpg is zero length, so ignoring.\n",
            "['3413.jpg', '107.jpg', '3446.jpg', '535.jpg', '4682.jpg', '9335.jpg', '4823.jpg', '5083.jpg', '5872.jpg', '1862.jpg']\n",
            "['9359.jpg', '4917.jpg', '9551.jpg', '5653.jpg', '3548.jpg', '7971.jpg', '5210.jpg', '1445.jpg', '4036.jpg', '8785.jpg']\n",
            "11702.jpg is zero length, so ignoring.\n",
            "['6313.jpg', '6416.jpg', '12436.jpg', '5144.jpg', '7894.jpg', '1328.jpg', '3817.jpg', '3957.jpg', '3870.jpg', '8925.jpg']\n",
            "['12298.jpg', '7138.jpg', '6819.jpg', '12271.jpg', '4536.jpg', '12461.jpg', '12370.jpg', '7889.jpg', '9114.jpg', '8498.jpg']\n"
          ],
          "name": "stdout"
        }
      ]
    },
    {
      "cell_type": "code",
      "metadata": {
        "id": "luthalB76ufC",
        "colab_type": "code",
        "outputId": "d7c78060-15cd-4058-fe38-6751d4aaff8f",
        "colab": {
          "base_uri": "https://localhost:8080/",
          "height": 84
        }
      },
      "source": [
        "print(len(os.listdir('/tmp/cats-v-dogs/training/cats/')))\n",
        "print(len(os.listdir('/tmp/cats-v-dogs/training/dogs/')))\n",
        "print(len(os.listdir('/tmp/cats-v-dogs/testing/cats/')))\n",
        "print(len(os.listdir('/tmp/cats-v-dogs/testing/dogs/')))\n",
        "\n",
        "# Expected output:\n",
        "# 11250\n",
        "# 11250\n",
        "# 1250\n",
        "# 1250"
      ],
      "execution_count": 6,
      "outputs": [
        {
          "output_type": "stream",
          "text": [
            "12387\n",
            "12365\n",
            "2387\n",
            "2365\n"
          ],
          "name": "stdout"
        }
      ]
    },
    {
      "cell_type": "code",
      "metadata": {
        "id": "-BQrav4anTmj",
        "colab_type": "code",
        "outputId": "b0b9bc97-f16b-4557-b7c5-a270df6fa10d",
        "colab": {
          "base_uri": "https://localhost:8080/",
          "height": 726
        }
      },
      "source": [
        "# DEFINE A KERAS MODEL TO CLASSIFY CATS V DOGS\n",
        "# USE AT LEAST 3 CONVOLUTION LAYERS\n",
        "model = tf.keras.models.Sequential([\n",
        "    # Note the input shape is the desired size of the image 150x150 with 3 bytes color\n",
        "    tf.keras.layers.SeparableConv2D(32, (3,3), depth_multiplier=3, activation='relu', input_shape=(150, 150, 3)),\n",
        "    tf.keras.layers.Conv2D(32, (3,3), activation='relu'),\n",
        "    tf.keras.layers.MaxPooling2D(2,2),\n",
        "    tf.keras.layers.Conv2D(64, (3,3), activation='relu'),\n",
        "    tf.keras.layers.MaxPooling2D(2,2), \n",
        "    tf.keras.layers.Conv2D(128, (3,3), activation='relu'), \n",
        "    tf.keras.layers.MaxPooling2D(2,2),\n",
        "    tf.keras.layers.Conv2D(128, (3,3), activation='relu'),\n",
        "    tf.keras.layers.MaxPooling2D(2,2),\n",
        "    tf.keras.layers.Dropout(0.5),\n",
        "    # Flatten the results to feed into a DNN\n",
        "    tf.keras.layers.Flatten(), \n",
        "    # 512 neuron hidden layer\n",
        "    tf.keras.layers.Dense(512, activation='relu'), \n",
        "    # Only 1 output neuron. It will contain a value from 0-1 where 0 for 1 class ('cats') and 1 for the other ('dogs')\n",
        "    tf.keras.layers.Dense(1, activation='sigmoid')  \n",
        "])\n",
        "\n",
        "model.summary()\n",
        "model.compile(optimizer=RMSprop(lr=0.0001), loss='binary_crossentropy', metrics=['acc'])\n"
      ],
      "execution_count": 7,
      "outputs": [
        {
          "output_type": "stream",
          "text": [
            "WARNING: Logging before flag parsing goes to stderr.\n",
            "W0805 20:50:17.861174 140464436606848 deprecation.py:506] From /usr/local/lib/python3.6/dist-packages/tensorflow/python/ops/init_ops.py:1251: calling VarianceScaling.__init__ (from tensorflow.python.ops.init_ops) with dtype is deprecated and will be removed in a future version.\n",
            "Instructions for updating:\n",
            "Call initializer instance with the dtype argument instead of passing it to the constructor\n",
            "W0805 20:50:18.087279 140464436606848 deprecation.py:323] From /usr/local/lib/python3.6/dist-packages/tensorflow/python/ops/nn_impl.py:180: add_dispatch_support.<locals>.wrapper (from tensorflow.python.ops.array_ops) is deprecated and will be removed in a future version.\n",
            "Instructions for updating:\n",
            "Use tf.where in 2.0, which has the same broadcast rule as np.where\n"
          ],
          "name": "stderr"
        },
        {
          "output_type": "stream",
          "text": [
            "Model: \"sequential\"\n",
            "_________________________________________________________________\n",
            "Layer (type)                 Output Shape              Param #   \n",
            "=================================================================\n",
            "separable_conv2d (SeparableC (None, 148, 148, 32)      401       \n",
            "_________________________________________________________________\n",
            "conv2d (Conv2D)              (None, 146, 146, 32)      9248      \n",
            "_________________________________________________________________\n",
            "max_pooling2d (MaxPooling2D) (None, 73, 73, 32)        0         \n",
            "_________________________________________________________________\n",
            "conv2d_1 (Conv2D)            (None, 71, 71, 64)        18496     \n",
            "_________________________________________________________________\n",
            "max_pooling2d_1 (MaxPooling2 (None, 35, 35, 64)        0         \n",
            "_________________________________________________________________\n",
            "conv2d_2 (Conv2D)            (None, 33, 33, 128)       73856     \n",
            "_________________________________________________________________\n",
            "max_pooling2d_2 (MaxPooling2 (None, 16, 16, 128)       0         \n",
            "_________________________________________________________________\n",
            "conv2d_3 (Conv2D)            (None, 14, 14, 128)       147584    \n",
            "_________________________________________________________________\n",
            "max_pooling2d_3 (MaxPooling2 (None, 7, 7, 128)         0         \n",
            "_________________________________________________________________\n",
            "dropout (Dropout)            (None, 7, 7, 128)         0         \n",
            "_________________________________________________________________\n",
            "flatten (Flatten)            (None, 6272)              0         \n",
            "_________________________________________________________________\n",
            "dense (Dense)                (None, 512)               3211776   \n",
            "_________________________________________________________________\n",
            "dense_1 (Dense)              (None, 1)                 513       \n",
            "=================================================================\n",
            "Total params: 3,461,874\n",
            "Trainable params: 3,461,874\n",
            "Non-trainable params: 0\n",
            "_________________________________________________________________\n"
          ],
          "name": "stdout"
        }
      ]
    },
    {
      "cell_type": "code",
      "metadata": {
        "id": "mlNjoJ5D61N6",
        "colab_type": "code",
        "outputId": "320bfbda-5259-4687-d5aa-f79a882b6402",
        "colab": {
          "base_uri": "https://localhost:8080/",
          "height": 50
        }
      },
      "source": [
        "train_datagen = ImageDataGenerator(rescale=1./255,\n",
        "                                   rotation_range=30,\n",
        "                                   #width_shift_range=0.2,\n",
        "                                   #height_shift_range=0.2,\n",
        "                                   shear_range=0.2,\n",
        "                                   #zoom_range=0.2,\n",
        "                                   #horizontal_flip=True,\n",
        "                                   fill_mode='nearest')\n",
        "train_generator = train_datagen.flow_from_directory(MODEL_TRAINING_DIR,\n",
        "                                                    batch_size=250,\n",
        "                                                    class_mode='binary',\n",
        "                                                    target_size=(150, 150))\n",
        " \n",
        "validation_datagen = ImageDataGenerator(rescale=1./255)\n",
        "validation_generator = train_datagen.flow_from_directory(MODEL_TESTING_DIR,\n",
        "                                                    batch_size=25,\n",
        "                                                    class_mode='binary',\n",
        "                                                    target_size=(150, 150))\n",
        "\n",
        "\n",
        "# Expected Output:\n",
        "# Found 22498 images belonging to 2 classes.\n",
        "# Found 2500 images belonging to 2 classes."
      ],
      "execution_count": 8,
      "outputs": [
        {
          "output_type": "stream",
          "text": [
            "Found 24750 images belonging to 2 classes.\n",
            "Found 4752 images belonging to 2 classes.\n"
          ],
          "name": "stdout"
        }
      ]
    },
    {
      "cell_type": "code",
      "metadata": {
        "id": "KyS4n53w7DxC",
        "colab_type": "code",
        "outputId": "9dd0f84f-4b15-4805-dc61-609b682e2971",
        "colab": {
          "base_uri": "https://localhost:8080/",
          "height": 1000
        }
      },
      "source": [
        "history = model.fit_generator(train_generator,\n",
        "                              epochs=100,\n",
        "                              steps_per_epoch=45,\n",
        "                              verbose=1,\n",
        "                              validation_data=validation_generator,\n",
        "                              validation_steps=45\n",
        "                              )\n",
        "\n",
        "# The expectation here is that the model will train, and that accuracy will be > 95% on both training and validation\n",
        "# i.e. acc:A1 and val_acc:A2 will be visible, and both A1 and A2 will be > .9"
      ],
      "execution_count": 9,
      "outputs": [
        {
          "output_type": "stream",
          "text": [
            "Epoch 1/100\n",
            "16/45 [=========>....................] - ETA: 56s - loss: 0.6932 - acc: 0.5175"
          ],
          "name": "stdout"
        },
        {
          "output_type": "stream",
          "text": [
            "/usr/local/lib/python3.6/dist-packages/PIL/TiffImagePlugin.py:725: UserWarning: Possibly corrupt EXIF data.  Expecting to read 32 bytes but only got 0. Skipping tag 270\n",
            "  \" Skipping tag %s\" % (size, len(data), tag))\n",
            "/usr/local/lib/python3.6/dist-packages/PIL/TiffImagePlugin.py:725: UserWarning: Possibly corrupt EXIF data.  Expecting to read 5 bytes but only got 0. Skipping tag 271\n",
            "  \" Skipping tag %s\" % (size, len(data), tag))\n",
            "/usr/local/lib/python3.6/dist-packages/PIL/TiffImagePlugin.py:725: UserWarning: Possibly corrupt EXIF data.  Expecting to read 8 bytes but only got 0. Skipping tag 272\n",
            "  \" Skipping tag %s\" % (size, len(data), tag))\n",
            "/usr/local/lib/python3.6/dist-packages/PIL/TiffImagePlugin.py:725: UserWarning: Possibly corrupt EXIF data.  Expecting to read 8 bytes but only got 0. Skipping tag 282\n",
            "  \" Skipping tag %s\" % (size, len(data), tag))\n",
            "/usr/local/lib/python3.6/dist-packages/PIL/TiffImagePlugin.py:725: UserWarning: Possibly corrupt EXIF data.  Expecting to read 8 bytes but only got 0. Skipping tag 283\n",
            "  \" Skipping tag %s\" % (size, len(data), tag))\n",
            "/usr/local/lib/python3.6/dist-packages/PIL/TiffImagePlugin.py:725: UserWarning: Possibly corrupt EXIF data.  Expecting to read 20 bytes but only got 0. Skipping tag 306\n",
            "  \" Skipping tag %s\" % (size, len(data), tag))\n",
            "/usr/local/lib/python3.6/dist-packages/PIL/TiffImagePlugin.py:725: UserWarning: Possibly corrupt EXIF data.  Expecting to read 48 bytes but only got 0. Skipping tag 532\n",
            "  \" Skipping tag %s\" % (size, len(data), tag))\n",
            "/usr/local/lib/python3.6/dist-packages/PIL/TiffImagePlugin.py:742: UserWarning: Corrupt EXIF data.  Expecting to read 2 bytes but only got 0. \n",
            "  warnings.warn(str(msg))\n"
          ],
          "name": "stderr"
        },
        {
          "output_type": "stream",
          "text": [
            "45/45 [==============================] - 95s 2s/step - loss: 0.6888 - acc: 0.5364 - val_loss: 0.6761 - val_acc: 0.5680\n",
            "Epoch 2/100\n",
            " 8/45 [====>.........................] - ETA: 32s - loss: 0.6747 - acc: 0.5795"
          ],
          "name": "stdout"
        },
        {
          "output_type": "stream",
          "text": [
            "/usr/local/lib/python3.6/dist-packages/PIL/TiffImagePlugin.py:725: UserWarning: Possibly corrupt EXIF data.  Expecting to read 18350080 bytes but only got 0. Skipping tag 0\n",
            "  \" Skipping tag %s\" % (size, len(data), tag))\n",
            "/usr/local/lib/python3.6/dist-packages/PIL/TiffImagePlugin.py:742: UserWarning: Corrupt EXIF data.  Expecting to read 12 bytes but only got 6. \n",
            "  warnings.warn(str(msg))\n"
          ],
          "name": "stderr"
        },
        {
          "output_type": "stream",
          "text": [
            "10/45 [=====>........................] - ETA: 36s - loss: 0.6764 - acc: 0.5744"
          ],
          "name": "stdout"
        },
        {
          "output_type": "stream",
          "text": [
            "/usr/local/lib/python3.6/dist-packages/PIL/TiffImagePlugin.py:725: UserWarning: Possibly corrupt EXIF data.  Expecting to read 209715200 bytes but only got 0. Skipping tag 48\n",
            "  \" Skipping tag %s\" % (size, len(data), tag))\n",
            "/usr/local/lib/python3.6/dist-packages/PIL/TiffImagePlugin.py:725: UserWarning: Possibly corrupt EXIF data.  Expecting to read 52428800 bytes but only got 0. Skipping tag 0\n",
            "  \" Skipping tag %s\" % (size, len(data), tag))\n",
            "/usr/local/lib/python3.6/dist-packages/PIL/TiffImagePlugin.py:725: UserWarning: Possibly corrupt EXIF data.  Expecting to read 6468665344 bytes but only got 0. Skipping tag 0\n",
            "  \" Skipping tag %s\" % (size, len(data), tag))\n",
            "/usr/local/lib/python3.6/dist-packages/PIL/TiffImagePlugin.py:725: UserWarning: Possibly corrupt EXIF data.  Expecting to read 1050744 bytes but only got 7027. Skipping tag 48\n",
            "  \" Skipping tag %s\" % (size, len(data), tag))\n",
            "/usr/local/lib/python3.6/dist-packages/PIL/TiffImagePlugin.py:725: UserWarning: Possibly corrupt EXIF data.  Expecting to read 422313984 bytes but only got 0. Skipping tag 5\n",
            "  \" Skipping tag %s\" % (size, len(data), tag))\n",
            "/usr/local/lib/python3.6/dist-packages/PIL/TiffImagePlugin.py:725: UserWarning: Possibly corrupt EXIF data.  Expecting to read 422838272 bytes but only got 0. Skipping tag 5\n",
            "  \" Skipping tag %s\" % (size, len(data), tag))\n",
            "/usr/local/lib/python3.6/dist-packages/PIL/TiffImagePlugin.py:725: UserWarning: Possibly corrupt EXIF data.  Expecting to read 3368026112 bytes but only got 0. Skipping tag 7\n",
            "  \" Skipping tag %s\" % (size, len(data), tag))\n",
            "/usr/local/lib/python3.6/dist-packages/PIL/TiffImagePlugin.py:725: UserWarning: Possibly corrupt EXIF data.  Expecting to read 134479872 bytes but only got 0. Skipping tag 7\n",
            "  \" Skipping tag %s\" % (size, len(data), tag))\n",
            "/usr/local/lib/python3.6/dist-packages/PIL/TiffImagePlugin.py:725: UserWarning: Possibly corrupt EXIF data.  Expecting to read 428867584 bytes but only got 0. Skipping tag 10\n",
            "  \" Skipping tag %s\" % (size, len(data), tag))\n",
            "/usr/local/lib/python3.6/dist-packages/PIL/TiffImagePlugin.py:725: UserWarning: Possibly corrupt EXIF data.  Expecting to read 429391872 bytes but only got 0. Skipping tag 5\n",
            "  \" Skipping tag %s\" % (size, len(data), tag))\n",
            "/usr/local/lib/python3.6/dist-packages/PIL/TiffImagePlugin.py:725: UserWarning: Possibly corrupt EXIF data.  Expecting to read 2031616 bytes but only got 0. Skipping tag 3\n",
            "  \" Skipping tag %s\" % (size, len(data), tag))\n",
            "/usr/local/lib/python3.6/dist-packages/PIL/TiffImagePlugin.py:725: UserWarning: Possibly corrupt EXIF data.  Expecting to read 429916160 bytes but only got 0. Skipping tag 5\n",
            "  \" Skipping tag %s\" % (size, len(data), tag))\n",
            "/usr/local/lib/python3.6/dist-packages/PIL/TiffImagePlugin.py:725: UserWarning: Possibly corrupt EXIF data.  Expecting to read 3300917248 bytes but only got 0. Skipping tag 7\n",
            "  \" Skipping tag %s\" % (size, len(data), tag))\n",
            "/usr/local/lib/python3.6/dist-packages/PIL/TiffImagePlugin.py:725: UserWarning: Possibly corrupt EXIF data.  Expecting to read 65536 bytes but only got 0. Skipping tag 3\n",
            "  \" Skipping tag %s\" % (size, len(data), tag))\n",
            "/usr/local/lib/python3.6/dist-packages/PIL/TiffImagePlugin.py:725: UserWarning: Possibly corrupt EXIF data.  Expecting to read 21299200 bytes but only got 0. Skipping tag 4\n",
            "  \" Skipping tag %s\" % (size, len(data), tag))\n",
            "/usr/local/lib/python3.6/dist-packages/PIL/TiffImagePlugin.py:725: UserWarning: Possibly corrupt EXIF data.  Expecting to read 24313856 bytes but only got 0. Skipping tag 4\n",
            "  \" Skipping tag %s\" % (size, len(data), tag))\n",
            "/usr/local/lib/python3.6/dist-packages/PIL/TiffImagePlugin.py:725: UserWarning: Possibly corrupt EXIF data.  Expecting to read 453771264 bytes but only got 7032. Skipping tag 4\n",
            "  \" Skipping tag %s\" % (size, len(data), tag))\n",
            "/usr/local/lib/python3.6/dist-packages/PIL/TiffImagePlugin.py:725: UserWarning: Possibly corrupt EXIF data.  Expecting to read 131073 bytes but only got 7028. Skipping tag 0\n",
            "  \" Skipping tag %s\" % (size, len(data), tag))\n",
            "/usr/local/lib/python3.6/dist-packages/PIL/TiffImagePlugin.py:725: UserWarning: Possibly corrupt EXIF data.  Expecting to read 393216 bytes but only got 0. Skipping tag 3\n",
            "  \" Skipping tag %s\" % (size, len(data), tag))\n",
            "/usr/local/lib/python3.6/dist-packages/PIL/TiffImagePlugin.py:725: UserWarning: Possibly corrupt EXIF data.  Expecting to read 416415744 bytes but only got 0. Skipping tag 5\n",
            "  \" Skipping tag %s\" % (size, len(data), tag))\n",
            "/usr/local/lib/python3.6/dist-packages/PIL/TiffImagePlugin.py:725: UserWarning: Possibly corrupt EXIF data.  Expecting to read 416940032 bytes but only got 0. Skipping tag 5\n",
            "  \" Skipping tag %s\" % (size, len(data), tag))\n",
            "/usr/local/lib/python3.6/dist-packages/PIL/TiffImagePlugin.py:725: UserWarning: Possibly corrupt EXIF data.  Expecting to read 131072 bytes but only got 0. Skipping tag 3\n",
            "  \" Skipping tag %s\" % (size, len(data), tag))\n",
            "/usr/local/lib/python3.6/dist-packages/PIL/TiffImagePlugin.py:725: UserWarning: Possibly corrupt EXIF data.  Expecting to read 524288 bytes but only got 0. Skipping tag 4\n",
            "  \" Skipping tag %s\" % (size, len(data), tag))\n",
            "/usr/local/lib/python3.6/dist-packages/PIL/TiffImagePlugin.py:725: UserWarning: Possibly corrupt EXIF data.  Expecting to read 415825920 bytes but only got 7032. Skipping tag 4\n",
            "  \" Skipping tag %s\" % (size, len(data), tag))\n",
            "/usr/local/lib/python3.6/dist-packages/PIL/TiffImagePlugin.py:742: UserWarning: Corrupt EXIF data.  Expecting to read 12 bytes but only got 2. \n",
            "  warnings.warn(str(msg))\n"
          ],
          "name": "stderr"
        },
        {
          "output_type": "stream",
          "text": [
            "18/45 [===========>..................] - ETA: 37s - loss: 0.6762 - acc: 0.5722"
          ],
          "name": "stdout"
        },
        {
          "output_type": "stream",
          "text": [
            "/usr/local/lib/python3.6/dist-packages/PIL/TiffImagePlugin.py:725: UserWarning: Possibly corrupt EXIF data.  Expecting to read 80000 bytes but only got 0. Skipping tag 64640\n",
            "  \" Skipping tag %s\" % (size, len(data), tag))\n",
            "/usr/local/lib/python3.6/dist-packages/PIL/TiffImagePlugin.py:725: UserWarning: Possibly corrupt EXIF data.  Expecting to read 404094976 bytes but only got 0. Skipping tag 5\n",
            "  \" Skipping tag %s\" % (size, len(data), tag))\n",
            "/usr/local/lib/python3.6/dist-packages/PIL/TiffImagePlugin.py:725: UserWarning: Possibly corrupt EXIF data.  Expecting to read 404619264 bytes but only got 0. Skipping tag 5\n",
            "  \" Skipping tag %s\" % (size, len(data), tag))\n",
            "/usr/local/lib/python3.6/dist-packages/PIL/TiffImagePlugin.py:725: UserWarning: Possibly corrupt EXIF data.  Expecting to read 425459712 bytes but only got 0. Skipping tag 4\n",
            "  \" Skipping tag %s\" % (size, len(data), tag))\n",
            "/usr/local/lib/python3.6/dist-packages/PIL/TiffImagePlugin.py:725: UserWarning: Possibly corrupt EXIF data.  Expecting to read 1385474 bytes but only got 6833. Skipping tag 513\n",
            "  \" Skipping tag %s\" % (size, len(data), tag))\n",
            "/usr/local/lib/python3.6/dist-packages/PIL/TiffImagePlugin.py:725: UserWarning: Possibly corrupt EXIF data.  Expecting to read 3846701056 bytes but only got 0. Skipping tag 2\n",
            "  \" Skipping tag %s\" % (size, len(data), tag))\n",
            "/usr/local/lib/python3.6/dist-packages/PIL/TiffImagePlugin.py:725: UserWarning: Possibly corrupt EXIF data.  Expecting to read 196867 bytes but only got 6833. Skipping tag 0\n",
            "  \" Skipping tag %s\" % (size, len(data), tag))\n",
            "/usr/local/lib/python3.6/dist-packages/PIL/TiffImagePlugin.py:742: UserWarning: Corrupt EXIF data.  Expecting to read 12 bytes but only got 8. \n",
            "  warnings.warn(str(msg))\n"
          ],
          "name": "stderr"
        },
        {
          "output_type": "stream",
          "text": [
            "24/45 [===============>..............] - ETA: 30s - loss: 0.6741 - acc: 0.5805"
          ],
          "name": "stdout"
        },
        {
          "output_type": "stream",
          "text": [
            "/usr/local/lib/python3.6/dist-packages/PIL/TiffImagePlugin.py:725: UserWarning: Possibly corrupt EXIF data.  Expecting to read 262146 bytes but only got 0. Skipping tag 2\n",
            "  \" Skipping tag %s\" % (size, len(data), tag))\n",
            "/usr/local/lib/python3.6/dist-packages/PIL/TiffImagePlugin.py:725: UserWarning: Possibly corrupt EXIF data.  Expecting to read 262151 bytes but only got 0. Skipping tag 56\n",
            "  \" Skipping tag %s\" % (size, len(data), tag))\n",
            "/usr/local/lib/python3.6/dist-packages/PIL/TiffImagePlugin.py:742: UserWarning: Corrupt EXIF data.  Expecting to read 12 bytes but only got 0. \n",
            "  warnings.warn(str(msg))\n",
            "/usr/local/lib/python3.6/dist-packages/PIL/TiffImagePlugin.py:725: UserWarning: Possibly corrupt EXIF data.  Expecting to read 6553600 bytes but only got 0. Skipping tag 49\n",
            "  \" Skipping tag %s\" % (size, len(data), tag))\n",
            "/usr/local/lib/python3.6/dist-packages/PIL/TiffImagePlugin.py:725: UserWarning: Possibly corrupt EXIF data.  Expecting to read 1050744 bytes but only got 4951. Skipping tag 51\n",
            "  \" Skipping tag %s\" % (size, len(data), tag))\n",
            "/usr/local/lib/python3.6/dist-packages/PIL/TiffImagePlugin.py:725: UserWarning: Possibly corrupt EXIF data.  Expecting to read 293339136 bytes but only got 0. Skipping tag 5\n",
            "  \" Skipping tag %s\" % (size, len(data), tag))\n",
            "/usr/local/lib/python3.6/dist-packages/PIL/TiffImagePlugin.py:725: UserWarning: Possibly corrupt EXIF data.  Expecting to read 293863424 bytes but only got 0. Skipping tag 5\n",
            "  \" Skipping tag %s\" % (size, len(data), tag))\n",
            "/usr/local/lib/python3.6/dist-packages/PIL/TiffImagePlugin.py:725: UserWarning: Possibly corrupt EXIF data.  Expecting to read 295698432 bytes but only got 0. Skipping tag 10\n",
            "  \" Skipping tag %s\" % (size, len(data), tag))\n",
            "/usr/local/lib/python3.6/dist-packages/PIL/TiffImagePlugin.py:725: UserWarning: Possibly corrupt EXIF data.  Expecting to read 296222720 bytes but only got 0. Skipping tag 5\n",
            "  \" Skipping tag %s\" % (size, len(data), tag))\n",
            "/usr/local/lib/python3.6/dist-packages/PIL/TiffImagePlugin.py:725: UserWarning: Possibly corrupt EXIF data.  Expecting to read 14745600 bytes but only got 0. Skipping tag 4\n",
            "  \" Skipping tag %s\" % (size, len(data), tag))\n",
            "/usr/local/lib/python3.6/dist-packages/PIL/TiffImagePlugin.py:725: UserWarning: Possibly corrupt EXIF data.  Expecting to read 25624576 bytes but only got 0. Skipping tag 4\n",
            "  \" Skipping tag %s\" % (size, len(data), tag))\n",
            "/usr/local/lib/python3.6/dist-packages/PIL/TiffImagePlugin.py:725: UserWarning: Possibly corrupt EXIF data.  Expecting to read 317718528 bytes but only got 4956. Skipping tag 4\n",
            "  \" Skipping tag %s\" % (size, len(data), tag))\n",
            "/usr/local/lib/python3.6/dist-packages/PIL/TiffImagePlugin.py:725: UserWarning: Possibly corrupt EXIF data.  Expecting to read 131073 bytes but only got 4952. Skipping tag 0\n",
            "  \" Skipping tag %s\" % (size, len(data), tag))\n",
            "/usr/local/lib/python3.6/dist-packages/PIL/TiffImagePlugin.py:725: UserWarning: Possibly corrupt EXIF data.  Expecting to read 287178752 bytes but only got 0. Skipping tag 5\n",
            "  \" Skipping tag %s\" % (size, len(data), tag))\n",
            "/usr/local/lib/python3.6/dist-packages/PIL/TiffImagePlugin.py:725: UserWarning: Possibly corrupt EXIF data.  Expecting to read 287703040 bytes but only got 0. Skipping tag 5\n",
            "  \" Skipping tag %s\" % (size, len(data), tag))\n",
            "/usr/local/lib/python3.6/dist-packages/PIL/TiffImagePlugin.py:725: UserWarning: Possibly corrupt EXIF data.  Expecting to read 286654464 bytes but only got 4956. Skipping tag 4\n",
            "  \" Skipping tag %s\" % (size, len(data), tag))\n"
          ],
          "name": "stderr"
        },
        {
          "output_type": "stream",
          "text": [
            "37/45 [=======================>......] - ETA: 12s - loss: 0.6700 - acc: 0.5950"
          ],
          "name": "stdout"
        },
        {
          "output_type": "stream",
          "text": [
            "/usr/local/lib/python3.6/dist-packages/PIL/TiffImagePlugin.py:725: UserWarning: Possibly corrupt EXIF data.  Expecting to read 307363840 bytes but only got 0. Skipping tag 5\n",
            "  \" Skipping tag %s\" % (size, len(data), tag))\n",
            "/usr/local/lib/python3.6/dist-packages/PIL/TiffImagePlugin.py:725: UserWarning: Possibly corrupt EXIF data.  Expecting to read 307888128 bytes but only got 0. Skipping tag 5\n",
            "  \" Skipping tag %s\" % (size, len(data), tag))\n",
            "/usr/local/lib/python3.6/dist-packages/PIL/TiffImagePlugin.py:725: UserWarning: Possibly corrupt EXIF data.  Expecting to read 328728576 bytes but only got 0. Skipping tag 4\n",
            "  \" Skipping tag %s\" % (size, len(data), tag))\n",
            "/usr/local/lib/python3.6/dist-packages/PIL/TiffImagePlugin.py:725: UserWarning: Possibly corrupt EXIF data.  Expecting to read 1385474 bytes but only got 5357. Skipping tag 513\n",
            "  \" Skipping tag %s\" % (size, len(data), tag))\n",
            "/usr/local/lib/python3.6/dist-packages/PIL/TiffImagePlugin.py:725: UserWarning: Possibly corrupt EXIF data.  Expecting to read 196867 bytes but only got 5357. Skipping tag 0\n",
            "  \" Skipping tag %s\" % (size, len(data), tag))\n"
          ],
          "name": "stderr"
        },
        {
          "output_type": "stream",
          "text": [
            "45/45 [==============================] - 84s 2s/step - loss: 0.6659 - acc: 0.6036 - val_loss: 0.6545 - val_acc: 0.6044\n",
            "Epoch 3/100\n",
            "45/45 [==============================] - 84s 2s/step - loss: 0.6546 - acc: 0.6197 - val_loss: 0.6458 - val_acc: 0.6213\n",
            "Epoch 4/100\n",
            "45/45 [==============================] - 84s 2s/step - loss: 0.6364 - acc: 0.6396 - val_loss: 0.6387 - val_acc: 0.6222\n",
            "Epoch 5/100\n",
            "45/45 [==============================] - 84s 2s/step - loss: 0.6221 - acc: 0.6503 - val_loss: 0.6510 - val_acc: 0.6089\n",
            "Epoch 6/100\n",
            "45/45 [==============================] - 84s 2s/step - loss: 0.6102 - acc: 0.6708 - val_loss: 0.6241 - val_acc: 0.6551\n",
            "Epoch 7/100\n",
            "45/45 [==============================] - 83s 2s/step - loss: 0.5944 - acc: 0.6799 - val_loss: 0.5917 - val_acc: 0.6933\n",
            "Epoch 8/100\n",
            "45/45 [==============================] - 83s 2s/step - loss: 0.5803 - acc: 0.6994 - val_loss: 0.5761 - val_acc: 0.6996\n",
            "Epoch 9/100\n",
            "45/45 [==============================] - 83s 2s/step - loss: 0.5696 - acc: 0.6980 - val_loss: 0.5723 - val_acc: 0.7058\n",
            "Epoch 10/100\n",
            "45/45 [==============================] - 83s 2s/step - loss: 0.5681 - acc: 0.7061 - val_loss: 0.5598 - val_acc: 0.7244\n",
            "Epoch 11/100\n",
            "45/45 [==============================] - 83s 2s/step - loss: 0.5490 - acc: 0.7206 - val_loss: 0.5716 - val_acc: 0.7093\n",
            "Epoch 12/100\n",
            "45/45 [==============================] - 83s 2s/step - loss: 0.5409 - acc: 0.7260 - val_loss: 0.5531 - val_acc: 0.7298\n",
            "Epoch 13/100\n",
            "45/45 [==============================] - 83s 2s/step - loss: 0.5347 - acc: 0.7344 - val_loss: 0.5450 - val_acc: 0.7298\n",
            "Epoch 14/100\n",
            "45/45 [==============================] - 82s 2s/step - loss: 0.5225 - acc: 0.7448 - val_loss: 0.5357 - val_acc: 0.7404\n",
            "Epoch 15/100\n",
            "45/45 [==============================] - 83s 2s/step - loss: 0.5145 - acc: 0.7473 - val_loss: 0.5154 - val_acc: 0.7511\n",
            "Epoch 16/100\n",
            "45/45 [==============================] - 84s 2s/step - loss: 0.5136 - acc: 0.7458 - val_loss: 0.5229 - val_acc: 0.7387\n",
            "Epoch 17/100\n",
            "45/45 [==============================] - 82s 2s/step - loss: 0.5040 - acc: 0.7516 - val_loss: 0.5281 - val_acc: 0.7396\n",
            "Epoch 18/100\n",
            "45/45 [==============================] - 82s 2s/step - loss: 0.4983 - acc: 0.7570 - val_loss: 0.5006 - val_acc: 0.7653\n",
            "Epoch 19/100\n",
            "45/45 [==============================] - 82s 2s/step - loss: 0.4901 - acc: 0.7622 - val_loss: 0.4958 - val_acc: 0.7467\n",
            "Epoch 20/100\n",
            "45/45 [==============================] - 82s 2s/step - loss: 0.4869 - acc: 0.7679 - val_loss: 0.4861 - val_acc: 0.7653\n",
            "Epoch 21/100\n",
            "45/45 [==============================] - 82s 2s/step - loss: 0.4795 - acc: 0.7671 - val_loss: 0.5687 - val_acc: 0.7147\n",
            "Epoch 22/100\n",
            "45/45 [==============================] - 82s 2s/step - loss: 0.4769 - acc: 0.7744 - val_loss: 0.4815 - val_acc: 0.7751\n",
            "Epoch 23/100\n",
            "45/45 [==============================] - 83s 2s/step - loss: 0.4675 - acc: 0.7745 - val_loss: 0.4908 - val_acc: 0.7627\n",
            "Epoch 24/100\n",
            "45/45 [==============================] - 82s 2s/step - loss: 0.4724 - acc: 0.7736 - val_loss: 0.4781 - val_acc: 0.7556\n",
            "Epoch 25/100\n",
            "45/45 [==============================] - 82s 2s/step - loss: 0.4595 - acc: 0.7783 - val_loss: 0.4687 - val_acc: 0.7724\n",
            "Epoch 26/100\n",
            "45/45 [==============================] - 82s 2s/step - loss: 0.4605 - acc: 0.7808 - val_loss: 0.4597 - val_acc: 0.7867\n",
            "Epoch 27/100\n",
            "45/45 [==============================] - 82s 2s/step - loss: 0.4563 - acc: 0.7817 - val_loss: 0.4834 - val_acc: 0.7671\n",
            "Epoch 28/100\n",
            "45/45 [==============================] - 82s 2s/step - loss: 0.4458 - acc: 0.7938 - val_loss: 0.4905 - val_acc: 0.7671\n",
            "Epoch 29/100\n",
            "45/45 [==============================] - 82s 2s/step - loss: 0.4535 - acc: 0.7844 - val_loss: 0.4932 - val_acc: 0.7511\n",
            "Epoch 30/100\n",
            "45/45 [==============================] - 82s 2s/step - loss: 0.4361 - acc: 0.7968 - val_loss: 0.4491 - val_acc: 0.7867\n",
            "Epoch 31/100\n",
            "45/45 [==============================] - 83s 2s/step - loss: 0.4430 - acc: 0.7901 - val_loss: 0.4474 - val_acc: 0.7858\n",
            "Epoch 32/100\n",
            "45/45 [==============================] - 82s 2s/step - loss: 0.4369 - acc: 0.7988 - val_loss: 0.4352 - val_acc: 0.8044\n",
            "Epoch 33/100\n",
            "45/45 [==============================] - 82s 2s/step - loss: 0.4362 - acc: 0.7956 - val_loss: 0.4552 - val_acc: 0.7876\n",
            "Epoch 34/100\n",
            "45/45 [==============================] - 82s 2s/step - loss: 0.4257 - acc: 0.8011 - val_loss: 0.4321 - val_acc: 0.7929\n",
            "Epoch 35/100\n",
            "45/45 [==============================] - 83s 2s/step - loss: 0.4237 - acc: 0.8077 - val_loss: 0.4864 - val_acc: 0.7591\n",
            "Epoch 36/100\n",
            "45/45 [==============================] - 82s 2s/step - loss: 0.4143 - acc: 0.8084 - val_loss: 0.4159 - val_acc: 0.8107\n",
            "Epoch 37/100\n",
            "45/45 [==============================] - 82s 2s/step - loss: 0.4155 - acc: 0.8110 - val_loss: 0.4262 - val_acc: 0.8009\n",
            "Epoch 38/100\n",
            "45/45 [==============================] - 82s 2s/step - loss: 0.4153 - acc: 0.8058 - val_loss: 0.4223 - val_acc: 0.7982\n",
            "Epoch 39/100\n",
            "45/45 [==============================] - 82s 2s/step - loss: 0.4140 - acc: 0.8092 - val_loss: 0.4231 - val_acc: 0.7956\n",
            "Epoch 40/100\n",
            "45/45 [==============================] - 82s 2s/step - loss: 0.4140 - acc: 0.8072 - val_loss: 0.4050 - val_acc: 0.8169\n",
            "Epoch 41/100\n",
            "45/45 [==============================] - 82s 2s/step - loss: 0.4063 - acc: 0.8156 - val_loss: 0.4152 - val_acc: 0.8027\n",
            "Epoch 42/100\n",
            "45/45 [==============================] - 83s 2s/step - loss: 0.4028 - acc: 0.8179 - val_loss: 0.4058 - val_acc: 0.8133\n",
            "Epoch 43/100\n",
            "45/45 [==============================] - 82s 2s/step - loss: 0.3954 - acc: 0.8210 - val_loss: 0.4157 - val_acc: 0.8018\n",
            "Epoch 44/100\n",
            "45/45 [==============================] - 82s 2s/step - loss: 0.4107 - acc: 0.8105 - val_loss: 0.3967 - val_acc: 0.8169\n",
            "Epoch 45/100\n",
            "45/45 [==============================] - 82s 2s/step - loss: 0.4001 - acc: 0.8188 - val_loss: 0.4038 - val_acc: 0.8142\n",
            "Epoch 46/100\n",
            "45/45 [==============================] - 83s 2s/step - loss: 0.3946 - acc: 0.8187 - val_loss: 0.4040 - val_acc: 0.8178\n",
            "Epoch 47/100\n",
            "45/45 [==============================] - 82s 2s/step - loss: 0.3904 - acc: 0.8191 - val_loss: 0.4352 - val_acc: 0.7867\n",
            "Epoch 48/100\n",
            "45/45 [==============================] - 82s 2s/step - loss: 0.3881 - acc: 0.8236 - val_loss: 0.4048 - val_acc: 0.8071\n",
            "Epoch 49/100\n",
            "45/45 [==============================] - 82s 2s/step - loss: 0.3908 - acc: 0.8280 - val_loss: 0.4255 - val_acc: 0.7876\n",
            "Epoch 50/100\n",
            "45/45 [==============================] - 82s 2s/step - loss: 0.3809 - acc: 0.8287 - val_loss: 0.4028 - val_acc: 0.8133\n",
            "Epoch 51/100\n",
            "45/45 [==============================] - 82s 2s/step - loss: 0.3813 - acc: 0.8268 - val_loss: 0.3831 - val_acc: 0.8204\n",
            "Epoch 52/100\n",
            "45/45 [==============================] - 82s 2s/step - loss: 0.3813 - acc: 0.8268 - val_loss: 0.3792 - val_acc: 0.8276\n",
            "Epoch 53/100\n",
            "45/45 [==============================] - 82s 2s/step - loss: 0.3754 - acc: 0.8311 - val_loss: 0.4077 - val_acc: 0.8009\n",
            "Epoch 54/100\n",
            "45/45 [==============================] - 82s 2s/step - loss: 0.3744 - acc: 0.8321 - val_loss: 0.4050 - val_acc: 0.8044\n",
            "Epoch 55/100\n",
            "45/45 [==============================] - 82s 2s/step - loss: 0.3726 - acc: 0.8300 - val_loss: 0.4021 - val_acc: 0.8071\n",
            "Epoch 56/100\n",
            "45/45 [==============================] - 82s 2s/step - loss: 0.3745 - acc: 0.8324 - val_loss: 0.3687 - val_acc: 0.8356\n",
            "Epoch 57/100\n",
            "45/45 [==============================] - 82s 2s/step - loss: 0.3669 - acc: 0.8350 - val_loss: 0.3665 - val_acc: 0.8293\n",
            "Epoch 58/100\n",
            "45/45 [==============================] - 82s 2s/step - loss: 0.3708 - acc: 0.8345 - val_loss: 0.4046 - val_acc: 0.8124\n",
            "Epoch 59/100\n",
            "45/45 [==============================] - 83s 2s/step - loss: 0.3616 - acc: 0.8390 - val_loss: 0.3838 - val_acc: 0.8204\n",
            "Epoch 60/100\n",
            "45/45 [==============================] - 83s 2s/step - loss: 0.3622 - acc: 0.8395 - val_loss: 0.3627 - val_acc: 0.8284\n",
            "Epoch 61/100\n",
            "45/45 [==============================] - 83s 2s/step - loss: 0.3548 - acc: 0.8444 - val_loss: 0.3810 - val_acc: 0.8240\n",
            "Epoch 62/100\n",
            "45/45 [==============================] - 83s 2s/step - loss: 0.3685 - acc: 0.8308 - val_loss: 0.3684 - val_acc: 0.8329\n",
            "Epoch 63/100\n",
            "45/45 [==============================] - 83s 2s/step - loss: 0.3511 - acc: 0.8410 - val_loss: 0.3406 - val_acc: 0.8436\n",
            "Epoch 64/100\n",
            "45/45 [==============================] - 83s 2s/step - loss: 0.3623 - acc: 0.8370 - val_loss: 0.3546 - val_acc: 0.8373\n",
            "Epoch 65/100\n",
            "45/45 [==============================] - 82s 2s/step - loss: 0.3568 - acc: 0.8408 - val_loss: 0.3733 - val_acc: 0.8284\n",
            "Epoch 66/100\n",
            "45/45 [==============================] - 82s 2s/step - loss: 0.3475 - acc: 0.8442 - val_loss: 0.3690 - val_acc: 0.8258\n",
            "Epoch 67/100\n",
            "45/45 [==============================] - 82s 2s/step - loss: 0.3474 - acc: 0.8476 - val_loss: 0.3395 - val_acc: 0.8480\n",
            "Epoch 68/100\n",
            "45/45 [==============================] - 83s 2s/step - loss: 0.3520 - acc: 0.8421 - val_loss: 0.3986 - val_acc: 0.8009\n",
            "Epoch 69/100\n",
            "45/45 [==============================] - 83s 2s/step - loss: 0.3466 - acc: 0.8474 - val_loss: 0.3565 - val_acc: 0.8382\n",
            "Epoch 70/100\n",
            "45/45 [==============================] - 82s 2s/step - loss: 0.3423 - acc: 0.8470 - val_loss: 0.3471 - val_acc: 0.8391\n",
            "Epoch 71/100\n",
            "45/45 [==============================] - 82s 2s/step - loss: 0.3415 - acc: 0.8494 - val_loss: 0.3456 - val_acc: 0.8356\n",
            "Epoch 72/100\n",
            "45/45 [==============================] - 83s 2s/step - loss: 0.3415 - acc: 0.8466 - val_loss: 0.3343 - val_acc: 0.8400\n",
            "Epoch 73/100\n",
            "45/45 [==============================] - 82s 2s/step - loss: 0.3431 - acc: 0.8468 - val_loss: 0.4095 - val_acc: 0.8053\n",
            "Epoch 74/100\n",
            "45/45 [==============================] - 83s 2s/step - loss: 0.3361 - acc: 0.8506 - val_loss: 0.3254 - val_acc: 0.8356\n",
            "Epoch 75/100\n",
            "45/45 [==============================] - 83s 2s/step - loss: 0.3374 - acc: 0.8521 - val_loss: 0.3485 - val_acc: 0.8409\n",
            "Epoch 76/100\n",
            "45/45 [==============================] - 83s 2s/step - loss: 0.3313 - acc: 0.8519 - val_loss: 0.3984 - val_acc: 0.8222\n",
            "Epoch 77/100\n",
            "45/45 [==============================] - 82s 2s/step - loss: 0.3364 - acc: 0.8498 - val_loss: 0.3728 - val_acc: 0.8293\n",
            "Epoch 78/100\n",
            "45/45 [==============================] - 83s 2s/step - loss: 0.3296 - acc: 0.8556 - val_loss: 0.3481 - val_acc: 0.8453\n",
            "Epoch 79/100\n",
            "45/45 [==============================] - 83s 2s/step - loss: 0.3301 - acc: 0.8532 - val_loss: 0.3208 - val_acc: 0.8569\n",
            "Epoch 80/100\n",
            "45/45 [==============================] - 83s 2s/step - loss: 0.3311 - acc: 0.8516 - val_loss: 0.3411 - val_acc: 0.8444\n",
            "Epoch 81/100\n",
            "45/45 [==============================] - 82s 2s/step - loss: 0.3305 - acc: 0.8540 - val_loss: 0.3109 - val_acc: 0.8631\n",
            "Epoch 82/100\n",
            "45/45 [==============================] - 83s 2s/step - loss: 0.3287 - acc: 0.8557 - val_loss: 0.3137 - val_acc: 0.8507\n",
            "Epoch 83/100\n",
            "45/45 [==============================] - 83s 2s/step - loss: 0.3163 - acc: 0.8620 - val_loss: 0.3339 - val_acc: 0.8409\n",
            "Epoch 84/100\n",
            "45/45 [==============================] - 83s 2s/step - loss: 0.3192 - acc: 0.8587 - val_loss: 0.3054 - val_acc: 0.8613\n",
            "Epoch 85/100\n",
            "45/45 [==============================] - 84s 2s/step - loss: 0.3307 - acc: 0.8544 - val_loss: 0.3133 - val_acc: 0.8560\n",
            "Epoch 86/100\n",
            "45/45 [==============================] - 85s 2s/step - loss: 0.3144 - acc: 0.8655 - val_loss: 0.3167 - val_acc: 0.8489\n",
            "Epoch 87/100\n",
            "45/45 [==============================] - 84s 2s/step - loss: 0.3164 - acc: 0.8588 - val_loss: 0.3288 - val_acc: 0.8507\n",
            "Epoch 88/100\n",
            "45/45 [==============================] - 84s 2s/step - loss: 0.3174 - acc: 0.8653 - val_loss: 0.3078 - val_acc: 0.8560\n",
            "Epoch 89/100\n",
            "45/45 [==============================] - 85s 2s/step - loss: 0.3100 - acc: 0.8651 - val_loss: 0.3022 - val_acc: 0.8542\n",
            "Epoch 90/100\n",
            "45/45 [==============================] - 85s 2s/step - loss: 0.3123 - acc: 0.8636 - val_loss: 0.3063 - val_acc: 0.8596\n",
            "Epoch 91/100\n",
            "45/45 [==============================] - 85s 2s/step - loss: 0.3150 - acc: 0.8627 - val_loss: 0.3416 - val_acc: 0.8418\n",
            "Epoch 92/100\n",
            "45/45 [==============================] - 86s 2s/step - loss: 0.3040 - acc: 0.8668 - val_loss: 0.3064 - val_acc: 0.8693\n",
            "Epoch 93/100\n",
            "45/45 [==============================] - 86s 2s/step - loss: 0.3022 - acc: 0.8698 - val_loss: 0.3719 - val_acc: 0.8231\n",
            "Epoch 94/100\n",
            "45/45 [==============================] - 86s 2s/step - loss: 0.3035 - acc: 0.8670 - val_loss: 0.3237 - val_acc: 0.8427\n",
            "Epoch 95/100\n",
            "45/45 [==============================] - 84s 2s/step - loss: 0.3063 - acc: 0.8677 - val_loss: 0.3049 - val_acc: 0.8649\n",
            "Epoch 96/100\n",
            "45/45 [==============================] - 83s 2s/step - loss: 0.3047 - acc: 0.8653 - val_loss: 0.3057 - val_acc: 0.8569\n",
            "Epoch 97/100\n",
            "45/45 [==============================] - 83s 2s/step - loss: 0.2957 - acc: 0.8716 - val_loss: 0.2924 - val_acc: 0.8676\n",
            "Epoch 98/100\n",
            "45/45 [==============================] - 83s 2s/step - loss: 0.2965 - acc: 0.8693 - val_loss: 0.2978 - val_acc: 0.8684\n",
            "Epoch 99/100\n",
            "45/45 [==============================] - 83s 2s/step - loss: 0.3028 - acc: 0.8675 - val_loss: 0.2952 - val_acc: 0.8640\n",
            "Epoch 100/100\n",
            "45/45 [==============================] - 85s 2s/step - loss: 0.2937 - acc: 0.8710 - val_loss: 0.3001 - val_acc: 0.8596\n"
          ],
          "name": "stdout"
        }
      ]
    },
    {
      "cell_type": "code",
      "metadata": {
        "id": "MWZrJN4-65RC",
        "colab_type": "code",
        "outputId": "de88f289-3304-4956-b494-78f64ee2719d",
        "colab": {
          "base_uri": "https://localhost:8080/",
          "height": 229
        }
      },
      "source": [
        "# PLOT LOSS AND ACCURACY\n",
        "#%matplotlib inline\n",
        "\n",
        "#import matplotlib.image  as mpimg\n",
        "import matplotlib.pyplot as plt\n",
        "\n",
        "#-----------------------------------------------------------\n",
        "# Retrieve a list of list results on training and test data\n",
        "# sets for each training epoch\n",
        "#-----------------------------------------------------------\n",
        "acc=history.history['acc']\n",
        "val_acc=history.history['val_acc']\n",
        "loss=history.history['loss']\n",
        "val_loss=history.history['val_loss']\n",
        "\n",
        "epochs=range(len(acc)) # Get number of epochs\n",
        "\n",
        "#------------------------------------------------\n",
        "# Plot training and validation accuracy per epoch\n",
        "#------------------------------------------------\n",
        "plt.plot(epochs, acc, 'r', label=\"Training Accuracy\")\n",
        "plt.plot(epochs, val_acc, 'b', label=\"Validation Accuracy\")\n",
        "plt.title('Training and validation accuracy')\n",
        "plt.legend()\n",
        "plt.figure()\n",
        "\n",
        "\n",
        "#------------------------------------------------\n",
        "# Plot training and validation loss per epoch\n",
        "#------------------------------------------------\n",
        "plt.plot(epochs, loss, 'r', label=\"Training Loss\")\n",
        "plt.plot(epochs, val_loss, 'b', label=\"Validation Loss\")\n",
        "plt.title('Training and validation loss')\n",
        "plt.legend()\n",
        "\n",
        "plt.show()\n",
        "\n",
        "# Desired output. Charts with training and validation metrics. No crash :)"
      ],
      "execution_count": 1,
      "outputs": [
        {
          "output_type": "error",
          "ename": "NameError",
          "evalue": "ignored",
          "traceback": [
            "\u001b[0;31m---------------------------------------------------------------------------\u001b[0m",
            "\u001b[0;31mNameError\u001b[0m                                 Traceback (most recent call last)",
            "\u001b[0;32m<ipython-input-1-3173586e486d>\u001b[0m in \u001b[0;36m<module>\u001b[0;34m()\u001b[0m\n\u001b[1;32m      5\u001b[0m \u001b[0;31m# sets for each training epoch\u001b[0m\u001b[0;34m\u001b[0m\u001b[0;34m\u001b[0m\u001b[0;34m\u001b[0m\u001b[0m\n\u001b[1;32m      6\u001b[0m \u001b[0;31m#-----------------------------------------------------------\u001b[0m\u001b[0;34m\u001b[0m\u001b[0;34m\u001b[0m\u001b[0;34m\u001b[0m\u001b[0m\n\u001b[0;32m----> 7\u001b[0;31m \u001b[0macc\u001b[0m\u001b[0;34m=\u001b[0m\u001b[0mhistory\u001b[0m\u001b[0;34m.\u001b[0m\u001b[0mhistory\u001b[0m\u001b[0;34m[\u001b[0m\u001b[0;34m'acc'\u001b[0m\u001b[0;34m]\u001b[0m\u001b[0;34m\u001b[0m\u001b[0;34m\u001b[0m\u001b[0m\n\u001b[0m\u001b[1;32m      8\u001b[0m \u001b[0mval_acc\u001b[0m\u001b[0;34m=\u001b[0m\u001b[0mhistory\u001b[0m\u001b[0;34m.\u001b[0m\u001b[0mhistory\u001b[0m\u001b[0;34m[\u001b[0m\u001b[0;34m'val_acc'\u001b[0m\u001b[0;34m]\u001b[0m\u001b[0;34m\u001b[0m\u001b[0;34m\u001b[0m\u001b[0m\n\u001b[1;32m      9\u001b[0m \u001b[0mloss\u001b[0m\u001b[0;34m=\u001b[0m\u001b[0mhistory\u001b[0m\u001b[0;34m.\u001b[0m\u001b[0mhistory\u001b[0m\u001b[0;34m[\u001b[0m\u001b[0;34m'loss'\u001b[0m\u001b[0;34m]\u001b[0m\u001b[0;34m\u001b[0m\u001b[0;34m\u001b[0m\u001b[0m\n",
            "\u001b[0;31mNameError\u001b[0m: name 'history' is not defined"
          ]
        }
      ]
    },
    {
      "cell_type": "code",
      "metadata": {
        "id": "LqL6FYUrtXpf",
        "colab_type": "code",
        "colab": {
          "base_uri": "https://localhost:8080/",
          "height": 128
        },
        "outputId": "2b4ca9e0-010c-4b02-c529-49988ce461b9"
      },
      "source": [
        "# Here's a codeblock just for fun. You should be able to upload an image here \n",
        "# and have it classified without crashing\n",
        "\n",
        "import numpy as np\n",
        "from google.colab import files\n",
        "from keras.preprocessing import image\n",
        "\n",
        "uploaded = files.upload()\n",
        "\n",
        "for fn in uploaded.keys():\n",
        " \n",
        "  # predicting images\n",
        "  path = '/content/' + fn\n",
        "  img = image.load_img(path, target_size=(# YOUR CODE HERE))\n",
        "  x = image.img_to_array(img)\n",
        "  x = np.expand_dims(x, axis=0)\n",
        "\n",
        "  images = np.vstack([x])\n",
        "  classes = model.predict(images, batch_size=10)\n",
        "  print(classes[0])\n",
        "  if classes[0]>0.5:\n",
        "    print(fn + \" is a dog\")\n",
        "  else:\n",
        "    print(fn + \" is a cat\")"
      ],
      "execution_count": 11,
      "outputs": [
        {
          "output_type": "error",
          "ename": "SyntaxError",
          "evalue": "ignored",
          "traceback": [
            "\u001b[0;36m  File \u001b[0;32m\"<ipython-input-11-e23a17d42966>\"\u001b[0;36m, line \u001b[0;32m13\u001b[0m\n\u001b[0;31m    x = image.img_to_array(img)\u001b[0m\n\u001b[0m      ^\u001b[0m\n\u001b[0;31mSyntaxError\u001b[0m\u001b[0;31m:\u001b[0m invalid syntax\n"
          ]
        }
      ]
    }
  ]
}